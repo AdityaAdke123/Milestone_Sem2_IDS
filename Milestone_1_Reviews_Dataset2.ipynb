{
 "cells": [
  {
   "cell_type": "code",
   "execution_count": 1,
   "metadata": {},
   "outputs": [
    {
     "name": "stderr",
     "output_type": "stream",
     "text": [
      "C:\\Users\\91705\\anaconda3\\lib\\site-packages\\pandas\\core\\computation\\expressions.py:20: UserWarning: Pandas requires version '2.7.3' or newer of 'numexpr' (version '2.7.1' currently installed).\n",
      "  from pandas.core.computation.check import NUMEXPR_INSTALLED\n"
     ]
    }
   ],
   "source": [
    "import pandas as pd"
   ]
  },
  {
   "cell_type": "code",
   "execution_count": 2,
   "metadata": {},
   "outputs": [
    {
     "data": {
      "text/html": [
       "<div>\n",
       "<style scoped>\n",
       "    .dataframe tbody tr th:only-of-type {\n",
       "        vertical-align: middle;\n",
       "    }\n",
       "\n",
       "    .dataframe tbody tr th {\n",
       "        vertical-align: top;\n",
       "    }\n",
       "\n",
       "    .dataframe thead th {\n",
       "        text-align: right;\n",
       "    }\n",
       "</style>\n",
       "<table border=\"1\" class=\"dataframe\">\n",
       "  <thead>\n",
       "    <tr style=\"text-align: right;\">\n",
       "      <th></th>\n",
       "      <th>ReviewId</th>\n",
       "      <th>RecipeId</th>\n",
       "      <th>AuthorId</th>\n",
       "      <th>AuthorName</th>\n",
       "      <th>Rating</th>\n",
       "      <th>Review</th>\n",
       "      <th>DateSubmitted</th>\n",
       "      <th>DateModified</th>\n",
       "    </tr>\n",
       "  </thead>\n",
       "  <tbody>\n",
       "    <tr>\n",
       "      <th>706652</th>\n",
       "      <td>778260</td>\n",
       "      <td>54124</td>\n",
       "      <td>453828</td>\n",
       "      <td>artistclogger</td>\n",
       "      <td>5</td>\n",
       "      <td>Yummy soup!  Followed the directions as descri...</td>\n",
       "      <td>2009-01-01T17:06:01Z</td>\n",
       "      <td>2009-01-01T17:06:01Z</td>\n",
       "    </tr>\n",
       "    <tr>\n",
       "      <th>339686</th>\n",
       "      <td>362841</td>\n",
       "      <td>49161</td>\n",
       "      <td>168462</td>\n",
       "      <td>Cilantro in Canada</td>\n",
       "      <td>5</td>\n",
       "      <td>This is a roast with lots of flavour and heat....</td>\n",
       "      <td>2007-01-22T14:10:36Z</td>\n",
       "      <td>2007-01-22T14:10:36Z</td>\n",
       "    </tr>\n",
       "    <tr>\n",
       "      <th>1086655</th>\n",
       "      <td>1243697</td>\n",
       "      <td>78908</td>\n",
       "      <td>1491034</td>\n",
       "      <td>Mommys good stuff</td>\n",
       "      <td>5</td>\n",
       "      <td>Wonderful!!!  I added 3 bulion cubes to the wa...</td>\n",
       "      <td>2011-08-19T16:56:54Z</td>\n",
       "      <td>2011-08-19T16:56:54Z</td>\n",
       "    </tr>\n",
       "    <tr>\n",
       "      <th>975671</th>\n",
       "      <td>1116699</td>\n",
       "      <td>423970</td>\n",
       "      <td>424680</td>\n",
       "      <td>Sydney Mike</td>\n",
       "      <td>5</td>\n",
       "      <td>I did cut this recipe in half but still used a...</td>\n",
       "      <td>2010-06-15T14:30:11Z</td>\n",
       "      <td>2010-06-15T14:30:11Z</td>\n",
       "    </tr>\n",
       "    <tr>\n",
       "      <th>355355</th>\n",
       "      <td>379568</td>\n",
       "      <td>198454</td>\n",
       "      <td>377581</td>\n",
       "      <td>forthefunofit</td>\n",
       "      <td>4</td>\n",
       "      <td>Yummy. I used honey wheat baking mix and 1 cup...</td>\n",
       "      <td>2007-02-28T18:46:50Z</td>\n",
       "      <td>2007-02-28T18:46:50Z</td>\n",
       "    </tr>\n",
       "  </tbody>\n",
       "</table>\n",
       "</div>"
      ],
      "text/plain": [
       "         ReviewId  RecipeId  AuthorId          AuthorName  Rating  \\\n",
       "706652     778260     54124    453828       artistclogger       5   \n",
       "339686     362841     49161    168462  Cilantro in Canada       5   \n",
       "1086655   1243697     78908   1491034   Mommys good stuff       5   \n",
       "975671    1116699    423970    424680         Sydney Mike       5   \n",
       "355355     379568    198454    377581       forthefunofit       4   \n",
       "\n",
       "                                                    Review  \\\n",
       "706652   Yummy soup!  Followed the directions as descri...   \n",
       "339686   This is a roast with lots of flavour and heat....   \n",
       "1086655  Wonderful!!!  I added 3 bulion cubes to the wa...   \n",
       "975671   I did cut this recipe in half but still used a...   \n",
       "355355   Yummy. I used honey wheat baking mix and 1 cup...   \n",
       "\n",
       "                DateSubmitted          DateModified  \n",
       "706652   2009-01-01T17:06:01Z  2009-01-01T17:06:01Z  \n",
       "339686   2007-01-22T14:10:36Z  2007-01-22T14:10:36Z  \n",
       "1086655  2011-08-19T16:56:54Z  2011-08-19T16:56:54Z  \n",
       "975671   2010-06-15T14:30:11Z  2010-06-15T14:30:11Z  \n",
       "355355   2007-02-28T18:46:50Z  2007-02-28T18:46:50Z  "
      ]
     },
     "execution_count": 2,
     "metadata": {},
     "output_type": "execute_result"
    }
   ],
   "source": [
    "import pandas as pd\n",
    "\n",
    "# Replace 'your_file.csv' with the path to your CSV file\n",
    "df = pd.read_csv('reviews.csv')\n",
    "\n",
    "# Display the first few rows of the dataframe\n",
    "df.sample(5)"
   ]
  },
  {
   "cell_type": "code",
   "execution_count": 3,
   "metadata": {},
   "outputs": [
    {
     "name": "stdout",
     "output_type": "stream",
     "text": [
      "<class 'pandas.core.frame.DataFrame'>\n",
      "RangeIndex: 1401982 entries, 0 to 1401981\n",
      "Data columns (total 8 columns):\n",
      " #   Column         Non-Null Count    Dtype \n",
      "---  ------         --------------    ----- \n",
      " 0   ReviewId       1401982 non-null  int64 \n",
      " 1   RecipeId       1401982 non-null  int64 \n",
      " 2   AuthorId       1401982 non-null  int64 \n",
      " 3   AuthorName     1401982 non-null  object\n",
      " 4   Rating         1401982 non-null  int64 \n",
      " 5   Review         1401768 non-null  object\n",
      " 6   DateSubmitted  1401982 non-null  object\n",
      " 7   DateModified   1401982 non-null  object\n",
      "dtypes: int64(4), object(4)\n",
      "memory usage: 85.6+ MB\n"
     ]
    }
   ],
   "source": [
    "df.info()"
   ]
  },
  {
   "cell_type": "code",
   "execution_count": 4,
   "metadata": {},
   "outputs": [
    {
     "data": {
      "image/png": "[encoded data removed]",
      "text/plain": [
       "<Figure size 864x432 with 1 Axes>"
      ]
     },
     "metadata": {
      "needs_background": "light"
     },
     "output_type": "display_data"
    }
   ],
   "source": [
    "import pandas as pd\n",
    "import matplotlib.pyplot as plt\n",
    "import seaborn as sns\n",
    "\n",
    "# Load the dataset (replace with your actual dataset file)\n",
    "df = pd.read_csv('reviews.csv')  \n",
    "\n",
    "# Set the figure size\n",
    "plt.figure(figsize=(12, 6))\n",
    "\n",
    "# Create a heatmap of missing values\n",
    "sns.heatmap(df.isnull(), cmap=\"viridis\", cbar=False, yticklabels=False)\n",
    "\n",
    "# Add title\n",
    "plt.title(\"Missing Values Heatmap\", fontsize=14)\n",
    "\n",
    "# Show plot\n",
    "plt.show()\n"
   ]
  },
  {
   "cell_type": "code",
   "execution_count": 5,
   "metadata": {},
   "outputs": [
    {
     "name": "stdout",
     "output_type": "stream",
     "text": [
      "Percentage of Missing Values in Each Column:\n",
      "\n",
      "        Column  Missing Percentage\n",
      "Review  Review            0.015264\n",
      "\n",
      "Overall Percentage of Missing Values in the Dataset: 0.00%\n"
     ]
    }
   ],
   "source": [
    "# Calculate the percentage of missing values per column\n",
    "missing_percentage = (df.isnull().sum() / len(df)) * 100\n",
    "\n",
    "# Convert to a DataFrame for better readability\n",
    "missing_df = pd.DataFrame({\"Column\": df.columns, \"Missing Percentage\": missing_percentage})\n",
    "\n",
    "# Display only columns with missing values\n",
    "missing_df = missing_df[missing_df[\"Missing Percentage\"] > 0].sort_values(by=\"Missing Percentage\", ascending=False)\n",
    "\n",
    "# Calculate the overall percentage of missing values\n",
    "overall_missing_percentage = (df.isnull().sum().sum() / (df.shape[0] * df.shape[1])) * 100\n",
    "\n",
    "# Print results\n",
    "print(\"Percentage of Missing Values in Each Column:\\n\")\n",
    "print(missing_df)\n",
    "print(\"\\nOverall Percentage of Missing Values in the Dataset: {:.2f}%\".format(overall_missing_percentage))"
   ]
  },
  {
   "cell_type": "code",
   "execution_count": 6,
   "metadata": {},
   "outputs": [
    {
     "name": "stdout",
     "output_type": "stream",
     "text": [
      "<class 'pandas.core.frame.DataFrame'>\n",
      "Index: 1401768 entries, 0 to 1401981\n",
      "Data columns (total 8 columns):\n",
      " #   Column         Non-Null Count    Dtype \n",
      "---  ------         --------------    ----- \n",
      " 0   ReviewId       1401768 non-null  int64 \n",
      " 1   RecipeId       1401768 non-null  int64 \n",
      " 2   AuthorId       1401768 non-null  int64 \n",
      " 3   AuthorName     1401768 non-null  object\n",
      " 4   Rating         1401768 non-null  int64 \n",
      " 5   Review         1401768 non-null  object\n",
      " 6   DateSubmitted  1401768 non-null  object\n",
      " 7   DateModified   1401768 non-null  object\n",
      "dtypes: int64(4), object(4)\n",
      "memory usage: 96.3+ MB\n"
     ]
    }
   ],
   "source": [
    "import pandas as pd\n",
    "\n",
    "df_cleaned = df.dropna(subset=['Review'])\n",
    "\n",
    "# Display information about the cleaned dataset\n",
    "df_cleaned.info()\n"
   ]
  },
  {
   "cell_type": "code",
   "execution_count": 7,
   "metadata": {},
   "outputs": [
    {
     "name": "stdout",
     "output_type": "stream",
     "text": [
      "              DateSubmitted  Year\n",
      "0 2000-01-25 21:44:00+00:00  2000\n",
      "1 2001-10-17 16:49:59+00:00  2001\n",
      "2 2000-02-25 09:00:00+00:00  2000\n",
      "3 2000-03-13 21:15:00+00:00  2000\n",
      "4 2000-03-28 12:51:00+00:00  2000\n"
     ]
    },
    {
     "name": "stderr",
     "output_type": "stream",
     "text": [
      "<ipython-input-7-af9ca6365b3f>:4: SettingWithCopyWarning: \n",
      "A value is trying to be set on a copy of a slice from a DataFrame.\n",
      "Try using .loc[row_indexer,col_indexer] = value instead\n",
      "\n",
      "See the caveats in the documentation: https://pandas.pydata.org/pandas-docs/stable/user_guide/indexing.html#returning-a-view-versus-a-copy\n",
      "  df_cleaned['DateSubmitted'] = pd.to_datetime(df_cleaned['DateSubmitted'], errors='coerce')\n",
      "<ipython-input-7-af9ca6365b3f>:7: SettingWithCopyWarning: \n",
      "A value is trying to be set on a copy of a slice from a DataFrame.\n",
      "Try using .loc[row_indexer,col_indexer] = value instead\n",
      "\n",
      "See the caveats in the documentation: https://pandas.pydata.org/pandas-docs/stable/user_guide/indexing.html#returning-a-view-versus-a-copy\n",
      "  df_cleaned['Year'] = df_cleaned['DateSubmitted'].dt.year\n"
     ]
    }
   ],
   "source": [
    "import pandas as pd\n",
    "\n",
    "# Convert DateSubmitted to datetime format\n",
    "df_cleaned['DateSubmitted'] = pd.to_datetime(df_cleaned['DateSubmitted'], errors='coerce')\n",
    "\n",
    "# Extract the year\n",
    "df_cleaned['Year'] = df_cleaned['DateSubmitted'].dt.year\n",
    "\n",
    "# Check if conversion worked\n",
    "print(df_cleaned[['DateSubmitted', 'Year']].head())"
   ]
  },
  {
   "cell_type": "markdown",
   "metadata": {},
   "source": [
    "## Analysis of Cleaned Data"
   ]
  },
  {
   "cell_type": "code",
   "execution_count": 8,
   "metadata": {},
   "outputs": [
    {
     "data": {
      "image/png": "[encoded data removed]",
      "text/plain": [
       "<Figure size 432x288 with 1 Axes>"
      ]
     },
     "metadata": {
      "needs_background": "light"
     },
     "output_type": "display_data"
    }
   ],
   "source": [
    "import matplotlib.pyplot as plt\n",
    "df_cleaned['Rating'].value_counts().sort_index().plot(kind='bar', title=\"Distribution of Ratings\")\n",
    "plt.xlabel(\"Rating\")\n",
    "plt.ylabel(\"Count\")\n",
    "plt.show()\n"
   ]
  },
  {
   "cell_type": "code",
   "execution_count": 9,
   "metadata": {},
   "outputs": [],
   "source": [
    "top_reviewers = df_cleaned['AuthorName'].value_counts().head(10)\n",
    "top_recipes = df_cleaned['RecipeId'].value_counts().head(10)"
   ]
  },
  {
   "cell_type": "code",
   "execution_count": 10,
   "metadata": {},
   "outputs": [
    {
     "data": {
      "text/plain": [
       "AuthorName\n",
       "Sydney Mike            8842\n",
       "Sharon123              6605\n",
       "Boomette               5438\n",
       "Baby Kato              4693\n",
       "Annacia                4586\n",
       "Kittencalrecipezazz    3963\n",
       "Rita1652               3743\n",
       "Parsley                3688\n",
       "PaulaG                 3590\n",
       "lazyme                 3543\n",
       "Name: count, dtype: int64"
      ]
     },
     "execution_count": 10,
     "metadata": {},
     "output_type": "execute_result"
    }
   ],
   "source": [
    "top_reviewers"
   ]
  },
  {
   "cell_type": "code",
   "execution_count": 11,
   "metadata": {},
   "outputs": [
    {
     "data": {
      "text/plain": [
       "RecipeId\n",
       "45809    2892\n",
       "2886     2177\n",
       "27208    1614\n",
       "89204    1584\n",
       "39087    1491\n",
       "67256    1359\n",
       "35813    1352\n",
       "54257    1325\n",
       "22782    1273\n",
       "32204    1228\n",
       "Name: count, dtype: int64"
      ]
     },
     "execution_count": 11,
     "metadata": {},
     "output_type": "execute_result"
    }
   ],
   "source": [
    "top_recipes"
   ]
  },
  {
   "cell_type": "code",
   "execution_count": 12,
   "metadata": {},
   "outputs": [
    {
     "name": "stderr",
     "output_type": "stream",
     "text": [
      "<ipython-input-12-76b766954b85>:1: SettingWithCopyWarning: \n",
      "A value is trying to be set on a copy of a slice from a DataFrame.\n",
      "Try using .loc[row_indexer,col_indexer] = value instead\n",
      "\n",
      "See the caveats in the documentation: https://pandas.pydata.org/pandas-docs/stable/user_guide/indexing.html#returning-a-view-versus-a-copy\n",
      "  df_cleaned['Year'] = df_cleaned['DateSubmitted'].dt.year\n"
     ]
    },
    {
     "data": {
      "image/png": "[encoded data removed]",
      "text/plain": [
       "<Figure size 432x288 with 1 Axes>"
      ]
     },
     "metadata": {
      "needs_background": "light"
     },
     "output_type": "display_data"
    }
   ],
   "source": [
    "df_cleaned['Year'] = df_cleaned['DateSubmitted'].dt.year\n",
    "df_cleaned.groupby('Year').size().plot(kind='line', title=\"Review Trends Over Time\")\n",
    "plt.xlabel(\"Year\")\n",
    "plt.ylabel(\"Number of Reviews\")\n",
    "plt.show()\n"
   ]
  },
  {
   "cell_type": "code",
   "execution_count": 13,
   "metadata": {},
   "outputs": [
    {
     "data": {
      "text/plain": [
       "<Axes: title={'center': 'Average Rating Over Time'}, xlabel='Year'>"
      ]
     },
     "execution_count": 13,
     "metadata": {},
     "output_type": "execute_result"
    },
    {
     "data": {
      "image/png": "[encoded data removed]",
      "text/plain": [
       "<Figure size 432x288 with 1 Axes>"
      ]
     },
     "metadata": {
      "needs_background": "light"
     },
     "output_type": "display_data"
    }
   ],
   "source": [
    "df_cleaned.groupby('Year')['Rating'].mean().plot(kind='line', title=\"Average Rating Over Time\")\n"
   ]
  },
  {
   "cell_type": "code",
   "execution_count": null,
   "metadata": {},
   "outputs": [],
   "source": []
  }
 ],
 "metadata": {
  "kernelspec": {
   "display_name": "Python 3",
   "language": "python",
   "name": "python3"
  },
  "language_info": {
   "codemirror_mode": {
    "name": "ipython",
    "version": 3
   },
   "file_extension": ".py",
   "mimetype": "text/x-python",
   "name": "python",
   "nbconvert_exporter": "python",
   "pygments_lexer": "ipython3",
   "version": "3.8.5"
  }
 },
 "nbformat": 4,
 "nbformat_minor": 4
}
