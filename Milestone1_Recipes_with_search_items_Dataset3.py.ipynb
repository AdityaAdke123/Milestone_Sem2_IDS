{
 "cells": [
  {
   "cell_type": "code",
   "execution_count": 1,
   "metadata": {},
   "outputs": [
    {
     "name": "stderr",
     "output_type": "stream",
     "text": [
      "C:\\Users\\91705\\anaconda3\\lib\\site-packages\\pandas\\core\\computation\\expressions.py:20: UserWarning: Pandas requires version '2.7.3' or newer of 'numexpr' (version '2.7.1' currently installed).\n",
      "  from pandas.core.computation.check import NUMEXPR_INSTALLED\n"
     ]
    }
   ],
   "source": [
    "import pandas as pd"
   ]
  },
  {
   "cell_type": "code",
   "execution_count": 2,
   "metadata": {},
   "outputs": [
    {
     "data": {
      "text/html": [
       "<div>\n",
       "<style scoped>\n",
       "    .dataframe tbody tr th:only-of-type {\n",
       "        vertical-align: middle;\n",
       "    }\n",
       "\n",
       "    .dataframe tbody tr th {\n",
       "        vertical-align: top;\n",
       "    }\n",
       "\n",
       "    .dataframe thead th {\n",
       "        text-align: right;\n",
       "    }\n",
       "</style>\n",
       "<table border=\"1\" class=\"dataframe\">\n",
       "  <thead>\n",
       "    <tr style=\"text-align: right;\">\n",
       "      <th></th>\n",
       "      <th>id</th>\n",
       "      <th>name</th>\n",
       "      <th>description</th>\n",
       "      <th>ingredients</th>\n",
       "      <th>ingredients_raw_str</th>\n",
       "      <th>serving_size</th>\n",
       "      <th>servings</th>\n",
       "      <th>steps</th>\n",
       "      <th>tags</th>\n",
       "      <th>search_terms</th>\n",
       "    </tr>\n",
       "  </thead>\n",
       "  <tbody>\n",
       "    <tr>\n",
       "      <th>243448</th>\n",
       "      <td>509060</td>\n",
       "      <td>Apple Stuffed Acorn Squash</td>\n",
       "      <td>101 Things To Do With Apples\\r\\n\\r\\n\\r\\nServes 4</td>\n",
       "      <td>['acorn squash', 'butter', 'apple', 'raisins',...</td>\n",
       "      <td>[\"1       acorn squash\",\"1   teaspoon    butte...</td>\n",
       "      <td>1 (181 g)</td>\n",
       "      <td>4</td>\n",
       "      <td>['Preheat oven to 400.', 'Halve squash and rem...</td>\n",
       "      <td>['60-minutes-or-less', 'time-to-make', 'course...</td>\n",
       "      <td>{'low-calorie', 'low-sodium', 'healthy', 'low-...</td>\n",
       "    </tr>\n",
       "    <tr>\n",
       "      <th>282155</th>\n",
       "      <td>486743</td>\n",
       "      <td>Rich and Nutty Brown Butter Corn Bread With Fr...</td>\n",
       "      <td>In 'In the Kitchen with a Good Appetite' by Me...</td>\n",
       "      <td>['unsalted butter', 'ear of corn', 'pure maple...</td>\n",
       "      <td>[\"8   tablespoons    unsalted butter\",\"1      ...</td>\n",
       "      <td>1 (147 g)</td>\n",
       "      <td>6</td>\n",
       "      <td>['Preheat the oven to 375°.', 'In a 9-inch ove...</td>\n",
       "      <td>['60-minutes-or-less', 'time-to-make', 'course...</td>\n",
       "      <td>{'side', 'bread'}</td>\n",
       "    </tr>\n",
       "    <tr>\n",
       "      <th>48235</th>\n",
       "      <td>56562</td>\n",
       "      <td>Ginger-Kiwi Cheesecake</td>\n",
       "      <td>Here's a great cheesecake for company or famil...</td>\n",
       "      <td>['gingersnap crumbs', 'crystallized ginger', '...</td>\n",
       "      <td>[\"2/3  cup    gingersnap crumbs\",\"1/2  cup   m...</td>\n",
       "      <td>1 (196 g)</td>\n",
       "      <td>10</td>\n",
       "      <td>['Preheat oven to 350 degrees.', 'In a medium ...</td>\n",
       "      <td>['weeknight', 'time-to-make', 'course', 'main-...</td>\n",
       "      <td>{'dessert'}</td>\n",
       "    </tr>\n",
       "    <tr>\n",
       "      <th>413676</th>\n",
       "      <td>253012</td>\n",
       "      <td>Easy Enchiladas</td>\n",
       "      <td>Quick and easy</td>\n",
       "      <td>['ground meat', 'onion', 'cheddar cheese', 'to...</td>\n",
       "      <td>[\"1 1/2  lbs    ground meat\",\"3/4  cup    onio...</td>\n",
       "      <td>1 (158 g)</td>\n",
       "      <td>6</td>\n",
       "      <td>['Saute ground meat and onion.', 'Add cheddar ...</td>\n",
       "      <td>['60-minutes-or-less', 'time-to-make', 'course...</td>\n",
       "      <td>{'dinner'}</td>\n",
       "    </tr>\n",
       "    <tr>\n",
       "      <th>203136</th>\n",
       "      <td>345393</td>\n",
       "      <td>Nacho Mac N Cheese</td>\n",
       "      <td>Adapted from Simple &amp; Delicious Nov-Dec 2007. ...</td>\n",
       "      <td>['pasta', 'ground beef', 'butter', 'flour', 't...</td>\n",
       "      <td>[\"3   cups   uncooked pasta (1 lb)\",\"1   lb   ...</td>\n",
       "      <td>1 (324 g)</td>\n",
       "      <td>8</td>\n",
       "      <td>['Preheat oven to 350°F.', 'Boil pasta to al d...</td>\n",
       "      <td>['60-minutes-or-less', 'time-to-make', 'course...</td>\n",
       "      <td>{'dinner'}</td>\n",
       "    </tr>\n",
       "  </tbody>\n",
       "</table>\n",
       "</div>"
      ],
      "text/plain": [
       "            id                                               name  \\\n",
       "243448  509060                         Apple Stuffed Acorn Squash   \n",
       "282155  486743  Rich and Nutty Brown Butter Corn Bread With Fr...   \n",
       "48235    56562                             Ginger-Kiwi Cheesecake   \n",
       "413676  253012                                    Easy Enchiladas   \n",
       "203136  345393                                 Nacho Mac N Cheese   \n",
       "\n",
       "                                              description  \\\n",
       "243448   101 Things To Do With Apples\\r\\n\\r\\n\\r\\nServes 4   \n",
       "282155  In 'In the Kitchen with a Good Appetite' by Me...   \n",
       "48235   Here's a great cheesecake for company or famil...   \n",
       "413676                                     Quick and easy   \n",
       "203136  Adapted from Simple & Delicious Nov-Dec 2007. ...   \n",
       "\n",
       "                                              ingredients  \\\n",
       "243448  ['acorn squash', 'butter', 'apple', 'raisins',...   \n",
       "282155  ['unsalted butter', 'ear of corn', 'pure maple...   \n",
       "48235   ['gingersnap crumbs', 'crystallized ginger', '...   \n",
       "413676  ['ground meat', 'onion', 'cheddar cheese', 'to...   \n",
       "203136  ['pasta', 'ground beef', 'butter', 'flour', 't...   \n",
       "\n",
       "                                      ingredients_raw_str serving_size  \\\n",
       "243448  [\"1       acorn squash\",\"1   teaspoon    butte...    1 (181 g)   \n",
       "282155  [\"8   tablespoons    unsalted butter\",\"1      ...    1 (147 g)   \n",
       "48235   [\"2/3  cup    gingersnap crumbs\",\"1/2  cup   m...    1 (196 g)   \n",
       "413676  [\"1 1/2  lbs    ground meat\",\"3/4  cup    onio...    1 (158 g)   \n",
       "203136  [\"3   cups   uncooked pasta (1 lb)\",\"1   lb   ...    1 (324 g)   \n",
       "\n",
       "        servings                                              steps  \\\n",
       "243448         4  ['Preheat oven to 400.', 'Halve squash and rem...   \n",
       "282155         6  ['Preheat the oven to 375°.', 'In a 9-inch ove...   \n",
       "48235         10  ['Preheat oven to 350 degrees.', 'In a medium ...   \n",
       "413676         6  ['Saute ground meat and onion.', 'Add cheddar ...   \n",
       "203136         8  ['Preheat oven to 350°F.', 'Boil pasta to al d...   \n",
       "\n",
       "                                                     tags  \\\n",
       "243448  ['60-minutes-or-less', 'time-to-make', 'course...   \n",
       "282155  ['60-minutes-or-less', 'time-to-make', 'course...   \n",
       "48235   ['weeknight', 'time-to-make', 'course', 'main-...   \n",
       "413676  ['60-minutes-or-less', 'time-to-make', 'course...   \n",
       "203136  ['60-minutes-or-less', 'time-to-make', 'course...   \n",
       "\n",
       "                                             search_terms  \n",
       "243448  {'low-calorie', 'low-sodium', 'healthy', 'low-...  \n",
       "282155                                  {'side', 'bread'}  \n",
       "48235                                         {'dessert'}  \n",
       "413676                                         {'dinner'}  \n",
       "203136                                         {'dinner'}  "
      ]
     },
     "execution_count": 2,
     "metadata": {},
     "output_type": "execute_result"
    }
   ],
   "source": [
    "import pandas as pd\n",
    "\n",
    "# Replace 'your_file.csv' with the path to your CSV file\n",
    "df = pd.read_csv('recipes_w_search_terms.csv')\n",
    "\n",
    "# Display the first few rows of the dataframe\n",
    "df.sample(5)"
   ]
  },
  {
   "cell_type": "code",
   "execution_count": 3,
   "metadata": {},
   "outputs": [
    {
     "name": "stdout",
     "output_type": "stream",
     "text": [
      "<class 'pandas.core.frame.DataFrame'>\n",
      "RangeIndex: 494963 entries, 0 to 494962\n",
      "Data columns (total 10 columns):\n",
      " #   Column               Non-Null Count   Dtype \n",
      "---  ------               --------------   ----- \n",
      " 0   id                   494963 non-null  int64 \n",
      " 1   name                 494963 non-null  object\n",
      " 2   description          485362 non-null  object\n",
      " 3   ingredients          494963 non-null  object\n",
      " 4   ingredients_raw_str  494963 non-null  object\n",
      " 5   serving_size         494963 non-null  object\n",
      " 6   servings             494963 non-null  int64 \n",
      " 7   steps                494963 non-null  object\n",
      " 8   tags                 494963 non-null  object\n",
      " 9   search_terms         494963 non-null  object\n",
      "dtypes: int64(2), object(8)\n",
      "memory usage: 37.8+ MB\n"
     ]
    }
   ],
   "source": [
    "df.info()"
   ]
  },
  {
   "cell_type": "code",
   "execution_count": 4,
   "metadata": {},
   "outputs": [
    {
     "data": {
      "image/png": "[encoded data removed]",
      "text/plain": [
       "<Figure size 864x432 with 1 Axes>"
      ]
     },
     "metadata": {
      "needs_background": "light"
     },
     "output_type": "display_data"
    }
   ],
   "source": [
    "import pandas as pd\n",
    "import matplotlib.pyplot as plt\n",
    "import seaborn as sns\n",
    "\n",
    "# Load the dataset (replace with your actual dataset file)\n",
    "df = pd.read_csv('recipes_w_search_terms.csv')  \n",
    "\n",
    "# Set the figure size\n",
    "plt.figure(figsize=(12, 6))\n",
    "\n",
    "# Create a heatmap of missing values\n",
    "sns.heatmap(df.isnull(), cmap=\"viridis\", cbar=False, yticklabels=False)\n",
    "\n",
    "# Add title\n",
    "plt.title(\"Missing Values Heatmap\", fontsize=14)\n",
    "\n",
    "# Show plot\n",
    "plt.show()"
   ]
  },
  {
   "cell_type": "code",
   "execution_count": 5,
   "metadata": {},
   "outputs": [
    {
     "name": "stdout",
     "output_type": "stream",
     "text": [
      "Percentage of Missing Values in Each Column:\n",
      "\n",
      "                  Column  Missing Percentage\n",
      "description  description            1.939741\n",
      "\n",
      "Overall Percentage of Missing Values in the Dataset: 0.19%\n"
     ]
    }
   ],
   "source": [
    "# Calculate the percentage of missing values per column\n",
    "missing_percentage = (df.isnull().sum() / len(df)) * 100\n",
    "\n",
    "# Convert to a DataFrame for better readability\n",
    "missing_df = pd.DataFrame({\"Column\": df.columns, \"Missing Percentage\": missing_percentage})\n",
    "\n",
    "# Display only columns with missing values\n",
    "missing_df = missing_df[missing_df[\"Missing Percentage\"] > 0].sort_values(by=\"Missing Percentage\", ascending=False)\n",
    "\n",
    "# Calculate the overall percentage of missing values\n",
    "overall_missing_percentage = (df.isnull().sum().sum() / (df.shape[0] * df.shape[1])) * 100\n",
    "\n",
    "# Print results\n",
    "print(\"Percentage of Missing Values in Each Column:\\n\")\n",
    "print(missing_df)\n",
    "print(\"\\nOverall Percentage of Missing Values in the Dataset: {:.2f}%\".format(overall_missing_percentage))"
   ]
  },
  {
   "cell_type": "code",
   "execution_count": 6,
   "metadata": {},
   "outputs": [
    {
     "name": "stdout",
     "output_type": "stream",
     "text": [
      "<class 'pandas.core.frame.DataFrame'>\n",
      "Index: 485362 entries, 0 to 494962\n",
      "Data columns (total 10 columns):\n",
      " #   Column               Non-Null Count   Dtype \n",
      "---  ------               --------------   ----- \n",
      " 0   id                   485362 non-null  int64 \n",
      " 1   name                 485362 non-null  object\n",
      " 2   description          485362 non-null  object\n",
      " 3   ingredients          485362 non-null  object\n",
      " 4   ingredients_raw_str  485362 non-null  object\n",
      " 5   serving_size         485362 non-null  object\n",
      " 6   servings             485362 non-null  int64 \n",
      " 7   steps                485362 non-null  object\n",
      " 8   tags                 485362 non-null  object\n",
      " 9   search_terms         485362 non-null  object\n",
      "dtypes: int64(2), object(8)\n",
      "memory usage: 40.7+ MB\n"
     ]
    }
   ],
   "source": [
    "import pandas as pd\n",
    "\n",
    "df_cleaned = df.dropna(subset=['description'])\n",
    "\n",
    "# Display information about the cleaned dataset\n",
    "df_cleaned.info()"
   ]
  },
  {
   "cell_type": "markdown",
   "metadata": {},
   "source": [
    "## Analysis of Cleaned Data"
   ]
  },
  {
   "cell_type": "code",
   "execution_count": 7,
   "metadata": {},
   "outputs": [
    {
     "name": "stderr",
     "output_type": "stream",
     "text": [
      "<ipython-input-7-9261ba047e0c>:18: SettingWithCopyWarning: \n",
      "A value is trying to be set on a copy of a slice from a DataFrame.\n",
      "Try using .loc[row_indexer,col_indexer] = value instead\n",
      "\n",
      "See the caveats in the documentation: https://pandas.pydata.org/pandas-docs/stable/user_guide/indexing.html#returning-a-view-versus-a-copy\n",
      "  df_cleaned['ingredients'] = df_cleaned['ingredients'].apply(safe_eval)\n"
     ]
    },
    {
     "name": "stdout",
     "output_type": "stream",
     "text": [
      "[('salt', 187667), ('butter', 125909), ('sugar', 107158), ('onion', 82528), ('eggs', 77443), ('water', 76229), ('olive oil', 71757), ('flour', 59101), ('garlic cloves', 56844), ('milk', 56348), ('pepper', 46417), ('all-purpose flour', 41144), ('brown sugar', 39849), ('baking powder', 37726), ('egg', 37573), ('garlic', 32415), ('vanilla', 31827), ('baking soda', 31522), ('salt and pepper', 31135), ('parmesan cheese', 30557)]\n"
     ]
    }
   ],
   "source": [
    "# Understanding Ingredients and Recipe Popularity\n",
    "\n",
    "from collections import Counter\n",
    "import ast\n",
    "\n",
    "# Function to safely parse lists\n",
    "def safe_eval(val):\n",
    "    if isinstance(val, str):  # Only parse if it's a string\n",
    "        try:\n",
    "            parsed_val = ast.literal_eval(val)\n",
    "            if isinstance(parsed_val, list):  # Ensure it's a list\n",
    "                return parsed_val\n",
    "        except (ValueError, SyntaxError):\n",
    "            return [val]  # Keep the original string if parsing fails\n",
    "    return val  # If already a list, return as is\n",
    "\n",
    "# Apply function to convert 'ingredients' column to lists\n",
    "df_cleaned['ingredients'] = df_cleaned['ingredients'].apply(safe_eval)\n",
    "\n",
    "# Flatten all ingredients into a single list\n",
    "all_ingredients = [ingredient.lower().strip() for sublist in df_cleaned['ingredients'] if isinstance(sublist, list) for ingredient in sublist]\n",
    "\n",
    "# Get the most common ingredients\n",
    "common_ingredients = Counter(all_ingredients).most_common(20)\n",
    "\n",
    "# Print the 20 most common ingredients\n",
    "print(common_ingredients)\n"
   ]
  },
  {
   "cell_type": "code",
   "execution_count": 8,
   "metadata": {},
   "outputs": [
    {
     "data": {
      "image/png": "[encoded data removed]",
      "text/plain": [
       "<Figure size 432x288 with 1 Axes>"
      ]
     },
     "metadata": {
      "needs_background": "light"
     },
     "output_type": "display_data"
    }
   ],
   "source": [
    "from collections import Counter\n",
    "import matplotlib.pyplot as plt\n",
    "\n",
    "# Convert string representation of sets to actual sets\n",
    "df['tags'] = df['tags'].apply(ast.literal_eval)\n",
    "\n",
    "# Flatten all tags into a single list\n",
    "all_tags = [tag for sublist in df['tags'] for tag in sublist]\n",
    "\n",
    "# Get the most common tags\n",
    "common_tags = Counter(all_tags).most_common(10)\n",
    "\n",
    "# Plot most common tags\n",
    "tags, counts = zip(*common_tags)\n",
    "plt.barh(tags, counts)\n",
    "plt.xlabel(\"Count\")\n",
    "plt.ylabel(\"Tags\")\n",
    "plt.title(\"Most Common Recipe Tags\")\n",
    "plt.show()\n"
   ]
  },
  {
   "cell_type": "code",
   "execution_count": 9,
   "metadata": {},
   "outputs": [
    {
     "name": "stderr",
     "output_type": "stream",
     "text": [
      "<ipython-input-9-78857eebae4c>:5: SettingWithCopyWarning: \n",
      "A value is trying to be set on a copy of a slice from a DataFrame.\n",
      "Try using .loc[row_indexer,col_indexer] = value instead\n",
      "\n",
      "See the caveats in the documentation: https://pandas.pydata.org/pandas-docs/stable/user_guide/indexing.html#returning-a-view-versus-a-copy\n",
      "  df_cleaned['steps'] = df_cleaned['steps'].apply(lambda x: ast.literal_eval(x) if isinstance(x, str) else x)\n",
      "<ipython-input-9-78857eebae4c>:8: SettingWithCopyWarning: \n",
      "A value is trying to be set on a copy of a slice from a DataFrame.\n",
      "Try using .loc[row_indexer,col_indexer] = value instead\n",
      "\n",
      "See the caveats in the documentation: https://pandas.pydata.org/pandas-docs/stable/user_guide/indexing.html#returning-a-view-versus-a-copy\n",
      "  df_cleaned['step_count'] = df_cleaned['steps'].apply(lambda x: len(x) if isinstance(x, list) else 0)\n"
     ]
    },
    {
     "name": "stdout",
     "output_type": "stream",
     "text": [
      "count    485362.000000\n",
      "mean          6.689117\n",
      "std           4.261623\n",
      "min           0.000000\n",
      "25%           4.000000\n",
      "50%           6.000000\n",
      "75%           8.000000\n",
      "max         107.000000\n",
      "Name: step_count, dtype: float64\n"
     ]
    },
    {
     "data": {
      "image/png": "[encoded data removed]",
      "text/plain": [
       "<Figure size 432x288 with 1 Axes>"
      ]
     },
     "metadata": {
      "needs_background": "light"
     },
     "output_type": "display_data"
    }
   ],
   "source": [
    "import ast\n",
    "import matplotlib.pyplot as plt\n",
    "\n",
    "# Convert string representation of lists to actual lists\n",
    "df_cleaned['steps'] = df_cleaned['steps'].apply(lambda x: ast.literal_eval(x) if isinstance(x, str) else x)\n",
    "\n",
    "# Calculate step count for each recipe\n",
    "df_cleaned['step_count'] = df_cleaned['steps'].apply(lambda x: len(x) if isinstance(x, list) else 0)\n",
    "\n",
    "# Summary statistics\n",
    "print(df_cleaned['step_count'].describe())\n",
    "\n",
    "# Visualizing step count distribution\n",
    "plt.hist(df_cleaned['step_count'], bins=20, edgecolor='black')\n",
    "plt.xlabel(\"Number of Steps\")\n",
    "plt.ylabel(\"Frequency\")\n",
    "plt.title(\"Distribution of Steps in Recipes\")\n",
    "plt.show()\n"
   ]
  },
  {
   "cell_type": "markdown",
   "metadata": {},
   "source": [
    "Analysis: Most Commonly Used Ingredients"
   ]
  },
  {
   "cell_type": "code",
   "execution_count": 10,
   "metadata": {},
   "outputs": [
    {
     "name": "stderr",
     "output_type": "stream",
     "text": [
      "<ipython-input-10-7d8c9214db22>:17: SettingWithCopyWarning: \n",
      "A value is trying to be set on a copy of a slice from a DataFrame.\n",
      "Try using .loc[row_indexer,col_indexer] = value instead\n",
      "\n",
      "See the caveats in the documentation: https://pandas.pydata.org/pandas-docs/stable/user_guide/indexing.html#returning-a-view-versus-a-copy\n",
      "  df_cleaned['ingredients'] = df_cleaned['ingredients'].apply(safe_eval)\n"
     ]
    },
    {
     "data": {
      "image/png": "[encoded data removed]",
      "text/plain": [
       "<Figure size 720x432 with 1 Axes>"
      ]
     },
     "metadata": {
      "needs_background": "light"
     },
     "output_type": "display_data"
    }
   ],
   "source": [
    "from collections import Counter\n",
    "import ast\n",
    "import matplotlib.pyplot as plt\n",
    "\n",
    "# Safely convert string representation of lists to actual lists\n",
    "def safe_eval(val):\n",
    "    if isinstance(val, str):  \n",
    "        try:\n",
    "            parsed_val = ast.literal_eval(val)\n",
    "            if isinstance(parsed_val, list):  \n",
    "                return parsed_val\n",
    "        except (ValueError, SyntaxError):\n",
    "            return []\n",
    "    return val if isinstance(val, list) else []\n",
    "\n",
    "# Apply function to convert 'ingredients' column\n",
    "df_cleaned['ingredients'] = df_cleaned['ingredients'].apply(safe_eval)\n",
    "\n",
    "# Flatten all ingredients into a single list\n",
    "all_ingredients = [ingredient.lower().strip() for sublist in df_cleaned['ingredients'] for ingredient in sublist]\n",
    "\n",
    "# Get the most common ingredients\n",
    "common_ingredients = Counter(all_ingredients).most_common(15)\n",
    "\n",
    "# Plot the most common ingredients\n",
    "if common_ingredients:\n",
    "    ingredients, counts = zip(*common_ingredients)\n",
    "    plt.figure(figsize=(10, 6))\n",
    "    plt.barh(ingredients[::-1], counts[::-1])  # Reverse for better visualization\n",
    "    plt.xlabel(\"Count\")\n",
    "    plt.ylabel(\"Ingredients\")\n",
    "    plt.title(\"Top 15 Most Commonly Used Ingredients in Recipes\")\n",
    "    plt.show()\n",
    "else:\n",
    "    print(\"No common ingredients found. Please check data parsing.\")\n"
   ]
  },
  {
   "cell_type": "markdown",
   "metadata": {},
   "source": [
    "Analysis: Distribution of Recipe Complexity (Based on Steps)"
   ]
  },
  {
   "cell_type": "code",
   "execution_count": 11,
   "metadata": {},
   "outputs": [
    {
     "name": "stderr",
     "output_type": "stream",
     "text": [
      "<ipython-input-11-99f8f91ef428>:4: SettingWithCopyWarning: \n",
      "A value is trying to be set on a copy of a slice from a DataFrame.\n",
      "Try using .loc[row_indexer,col_indexer] = value instead\n",
      "\n",
      "See the caveats in the documentation: https://pandas.pydata.org/pandas-docs/stable/user_guide/indexing.html#returning-a-view-versus-a-copy\n",
      "  df_cleaned['steps'] = df_cleaned['steps'].apply(safe_eval)\n",
      "<ipython-input-11-99f8f91ef428>:7: SettingWithCopyWarning: \n",
      "A value is trying to be set on a copy of a slice from a DataFrame.\n",
      "Try using .loc[row_indexer,col_indexer] = value instead\n",
      "\n",
      "See the caveats in the documentation: https://pandas.pydata.org/pandas-docs/stable/user_guide/indexing.html#returning-a-view-versus-a-copy\n",
      "  df_cleaned['step_count'] = df_cleaned['steps'].apply(lambda x: len(x) if isinstance(x, list) else 0)\n",
      "<ipython-input-11-99f8f91ef428>:18: SettingWithCopyWarning: \n",
      "A value is trying to be set on a copy of a slice from a DataFrame.\n",
      "Try using .loc[row_indexer,col_indexer] = value instead\n",
      "\n",
      "See the caveats in the documentation: https://pandas.pydata.org/pandas-docs/stable/user_guide/indexing.html#returning-a-view-versus-a-copy\n",
      "  df_cleaned['recipe_complexity'] = df_cleaned['step_count'].apply(categorize_recipe)\n"
     ]
    },
    {
     "data": {
      "image/png": "[encoded data removed]",
      "text/plain": [
       "<Figure size 576x360 with 1 Axes>"
      ]
     },
     "metadata": {
      "needs_background": "light"
     },
     "output_type": "display_data"
    }
   ],
   "source": [
    "import matplotlib.pyplot as plt\n",
    "\n",
    "# Ensure 'steps' column is properly parsed as a list\n",
    "df_cleaned['steps'] = df_cleaned['steps'].apply(safe_eval)\n",
    "\n",
    "# Calculate step count for each recipe\n",
    "df_cleaned['step_count'] = df_cleaned['steps'].apply(lambda x: len(x) if isinstance(x, list) else 0)\n",
    "\n",
    "# Define categories based on step count\n",
    "def categorize_recipe(steps):\n",
    "    if steps <= 5:\n",
    "        return \"Simple\"\n",
    "    elif 6 <= steps <= 10:\n",
    "        return \"Moderate\"\n",
    "    else:\n",
    "        return \"Complex\"\n",
    "\n",
    "df_cleaned['recipe_complexity'] = df_cleaned['step_count'].apply(categorize_recipe)\n",
    "\n",
    "# Count of each complexity category\n",
    "complexity_counts = df_cleaned['recipe_complexity'].value_counts()\n",
    "\n",
    "# Plot distribution\n",
    "plt.figure(figsize=(8, 5))\n",
    "plt.bar(complexity_counts.index, complexity_counts.values, color=['green', 'orange', 'red'])\n",
    "plt.xlabel(\"Recipe Complexity\")\n",
    "plt.ylabel(\"Number of Recipes\")\n",
    "plt.title(\"Distribution of Recipe Complexity\")\n",
    "plt.show()\n"
   ]
  },
  {
   "cell_type": "code",
   "execution_count": null,
   "metadata": {},
   "outputs": [],
   "source": []
  }
 ],
 "metadata": {
  "kernelspec": {
   "display_name": "Python 3",
   "language": "python",
   "name": "python3"
  },
  "language_info": {
   "codemirror_mode": {
    "name": "ipython",
    "version": 3
   },
   "file_extension": ".py",
   "mimetype": "text/x-python",
   "name": "python",
   "nbconvert_exporter": "python",
   "pygments_lexer": "ipython3",
   "version": "3.8.5"
  }
 },
 "nbformat": 4,
 "nbformat_minor": 4
}
